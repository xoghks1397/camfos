{
 "cells": [
  {
   "cell_type": "code",
   "execution_count": 470,
   "metadata": {
    "scrolled": false
   },
   "outputs": [
    {
     "data": {
      "text/plain": [
       "Index(['컨텐츠ID', '야영장명', '한줄소개', '소개', '특징', '입지구분', '도', '시군구', '주소', '주소상세',\n",
       "       '경도(X)', '위도(Y)', '전화', '홈페이지', '예약 페이지', '예약 구분', '오토', '글램핑', '카라반',\n",
       "       '툴팁', '글램핑 - 내부시설', '카라반 - 내부시설', '운영기간', '운영일', '개인 트레일러 동반 여부', '화로대',\n",
       "       '부대시설', '부대시설 기타', '주변이용가능시설', '주변이용가능시설 기타', '야외 화장실', '야외 샤워실',\n",
       "       '자체문화행사 여부', '자체문화행사명', '체험프로그램 여부', '체험프로그램명', '테마환경', '캠핑장비대여',\n",
       "       '애완동물출입', '대표이미지'],\n",
       "      dtype='object')"
      ]
     },
     "execution_count": 470,
     "metadata": {},
     "output_type": "execute_result"
    }
   ],
   "source": [
    "import pandas as pd\n",
    "import numpy as np\n",
    "import re\n",
    "\n",
    "df = pd.read_csv(\"test.csv\",encoding = 'euc-kr')\n",
    "df.columns"
   ]
  },
  {
   "cell_type": "code",
   "execution_count": 471,
   "metadata": {
    "scrolled": true
   },
   "outputs": [],
   "source": [
    "for i in df.index.values:\n",
    "    if('오토' in df.iloc[i]['야영장명']):\n",
    "        df.loc[(df.컨텐츠ID == i+1),'오토'] = 'Y'\n",
    "    if('카라반' in df.iloc[i]['야영장명']):\n",
    "        df.loc[(df.컨텐츠ID == i+1),'카라반'] = 'Y'\n",
    "    if('글램핑' in df.iloc[i]['야영장명']):\n",
    "        df.loc[(df.컨텐츠ID == i+1),'글램핑'] = 'Y'\n",
    "    \n",
    "    \n",
    "    "
   ]
  },
  {
   "cell_type": "code",
   "execution_count": 474,
   "metadata": {},
   "outputs": [
    {
     "data": {
      "text/plain": [
       "169    Y\n",
       "Name: 카라반, dtype: object"
      ]
     },
     "execution_count": 474,
     "metadata": {},
     "output_type": "execute_result"
    }
   ],
   "source": [
    "df.loc[df['야영장명'] == '그날카라반 ']['카라반']"
   ]
  },
  {
   "cell_type": "code",
   "execution_count": 492,
   "metadata": {},
   "outputs": [],
   "source": [
    "df.to_csv('test.csv')"
   ]
  },
  {
   "cell_type": "code",
   "execution_count": 472,
   "metadata": {
    "scrolled": true
   },
   "outputs": [
    {
     "data": {
      "text/html": [
       "<div>\n",
       "<style scoped>\n",
       "    .dataframe tbody tr th:only-of-type {\n",
       "        vertical-align: middle;\n",
       "    }\n",
       "\n",
       "    .dataframe tbody tr th {\n",
       "        vertical-align: top;\n",
       "    }\n",
       "\n",
       "    .dataframe thead th {\n",
       "        text-align: right;\n",
       "    }\n",
       "</style>\n",
       "<table border=\"1\" class=\"dataframe\">\n",
       "  <thead>\n",
       "    <tr style=\"text-align: right;\">\n",
       "      <th></th>\n",
       "      <th>컨텐츠ID</th>\n",
       "      <th>야영장명</th>\n",
       "      <th>입지구분</th>\n",
       "      <th>오토</th>\n",
       "      <th>글램핑</th>\n",
       "      <th>카라반</th>\n",
       "      <th>개인 트레일러 동반 여부</th>\n",
       "      <th>부대시설</th>\n",
       "      <th>체험프로그램 여부</th>\n",
       "      <th>캠핑장비대여</th>\n",
       "      <th>애완동물출입</th>\n",
       "    </tr>\n",
       "  </thead>\n",
       "  <tbody>\n",
       "    <tr>\n",
       "      <th>0</th>\n",
       "      <td>1</td>\n",
       "      <td>(주)데일리랜드</td>\n",
       "      <td>산,숲</td>\n",
       "      <td>Y</td>\n",
       "      <td>N</td>\n",
       "      <td>N</td>\n",
       "      <td>N</td>\n",
       "      <td>전기,무선인터넷,장작판매,온수,물놀이장,마트.편의점</td>\n",
       "      <td>N</td>\n",
       "      <td>화로대</td>\n",
       "      <td>불가능</td>\n",
       "    </tr>\n",
       "    <tr>\n",
       "      <th>1</th>\n",
       "      <td>2</td>\n",
       "      <td>(주)디노담양힐링파크 지점</td>\n",
       "      <td>호수</td>\n",
       "      <td>Y</td>\n",
       "      <td>Y</td>\n",
       "      <td>Y</td>\n",
       "      <td>N</td>\n",
       "      <td>전기,무선인터넷,장작판매,온수,트렘폴린,물놀이장,놀이터,산책로,운동시설,마트.편의점</td>\n",
       "      <td>Y</td>\n",
       "      <td>NaN</td>\n",
       "      <td>불가능</td>\n",
       "    </tr>\n",
       "    <tr>\n",
       "      <th>2</th>\n",
       "      <td>3</td>\n",
       "      <td>(주)쉐르빌리안티티</td>\n",
       "      <td>산,강</td>\n",
       "      <td>N</td>\n",
       "      <td>Y</td>\n",
       "      <td>N</td>\n",
       "      <td>N</td>\n",
       "      <td>전기,무선인터넷,장작판매,온수,물놀이장,놀이터,운동장,운동시설,마트.편의점</td>\n",
       "      <td>N</td>\n",
       "      <td>NaN</td>\n",
       "      <td>불가능</td>\n",
       "    </tr>\n",
       "    <tr>\n",
       "      <th>3</th>\n",
       "      <td>4</td>\n",
       "      <td>(주)아웃오브파크</td>\n",
       "      <td>산,강</td>\n",
       "      <td>N</td>\n",
       "      <td>N</td>\n",
       "      <td>Y</td>\n",
       "      <td>N</td>\n",
       "      <td>운동시설</td>\n",
       "      <td>N</td>\n",
       "      <td>NaN</td>\n",
       "      <td>불가능</td>\n",
       "    </tr>\n",
       "    <tr>\n",
       "      <th>4</th>\n",
       "      <td>5</td>\n",
       "      <td>(주)양촌여울체험캠프</td>\n",
       "      <td>산,숲</td>\n",
       "      <td>Y</td>\n",
       "      <td>N</td>\n",
       "      <td>Y</td>\n",
       "      <td>Y</td>\n",
       "      <td>전기,온수,물놀이장,산책로,마트.편의점</td>\n",
       "      <td>Y</td>\n",
       "      <td>NaN</td>\n",
       "      <td>가능(소형견)</td>\n",
       "    </tr>\n",
       "    <tr>\n",
       "      <th>...</th>\n",
       "      <td>...</td>\n",
       "      <td>...</td>\n",
       "      <td>...</td>\n",
       "      <td>...</td>\n",
       "      <td>...</td>\n",
       "      <td>...</td>\n",
       "      <td>...</td>\n",
       "      <td>...</td>\n",
       "      <td>...</td>\n",
       "      <td>...</td>\n",
       "      <td>...</td>\n",
       "    </tr>\n",
       "    <tr>\n",
       "      <th>2485</th>\n",
       "      <td>2486</td>\n",
       "      <td>갈천힐링캠프</td>\n",
       "      <td>산,숲</td>\n",
       "      <td>N</td>\n",
       "      <td>N</td>\n",
       "      <td>N</td>\n",
       "      <td>N</td>\n",
       "      <td>NaN</td>\n",
       "      <td>N</td>\n",
       "      <td>NaN</td>\n",
       "      <td>불가능</td>\n",
       "    </tr>\n",
       "    <tr>\n",
       "      <th>2486</th>\n",
       "      <td>2487</td>\n",
       "      <td>쭌카라반 캠핑장</td>\n",
       "      <td>바다,숲</td>\n",
       "      <td>N</td>\n",
       "      <td>N</td>\n",
       "      <td>Y</td>\n",
       "      <td>N</td>\n",
       "      <td>NaN</td>\n",
       "      <td>N</td>\n",
       "      <td>NaN</td>\n",
       "      <td>불가능</td>\n",
       "    </tr>\n",
       "    <tr>\n",
       "      <th>2487</th>\n",
       "      <td>2488</td>\n",
       "      <td>포게더 카라반 지조개발</td>\n",
       "      <td>바다</td>\n",
       "      <td>N</td>\n",
       "      <td>N</td>\n",
       "      <td>Y</td>\n",
       "      <td>N</td>\n",
       "      <td>NaN</td>\n",
       "      <td>N</td>\n",
       "      <td>NaN</td>\n",
       "      <td>NaN</td>\n",
       "    </tr>\n",
       "    <tr>\n",
       "      <th>2488</th>\n",
       "      <td>2489</td>\n",
       "      <td>매물도야영장</td>\n",
       "      <td>섬,바다</td>\n",
       "      <td>N</td>\n",
       "      <td>N</td>\n",
       "      <td>N</td>\n",
       "      <td>N</td>\n",
       "      <td>NaN</td>\n",
       "      <td>N</td>\n",
       "      <td>NaN</td>\n",
       "      <td>불가능</td>\n",
       "    </tr>\n",
       "    <tr>\n",
       "      <th>2489</th>\n",
       "      <td>2490</td>\n",
       "      <td>블루문 오토캠핑</td>\n",
       "      <td>산</td>\n",
       "      <td>Y</td>\n",
       "      <td>N</td>\n",
       "      <td>N</td>\n",
       "      <td>N</td>\n",
       "      <td>NaN</td>\n",
       "      <td>N</td>\n",
       "      <td>NaN</td>\n",
       "      <td>불가능</td>\n",
       "    </tr>\n",
       "  </tbody>\n",
       "</table>\n",
       "<p>2490 rows × 11 columns</p>\n",
       "</div>"
      ],
      "text/plain": [
       "      컨텐츠ID            야영장명  입지구분 오토 글램핑 카라반 개인 트레일러 동반 여부  \\\n",
       "0         1       (주)데일리랜드    산,숲  Y   N   N             N   \n",
       "1         2  (주)디노담양힐링파크 지점    호수  Y   Y   Y             N   \n",
       "2         3      (주)쉐르빌리안티티   산,강  N   Y   N             N   \n",
       "3         4       (주)아웃오브파크   산,강  N   N   Y             N   \n",
       "4         5     (주)양촌여울체험캠프   산,숲  Y   N   Y             Y   \n",
       "...     ...             ...   ... ..  ..  ..           ...   \n",
       "2485   2486          갈천힐링캠프   산,숲  N   N   N             N   \n",
       "2486   2487        쭌카라반 캠핑장  바다,숲  N   N   Y             N   \n",
       "2487   2488    포게더 카라반 지조개발    바다  N   N   Y             N   \n",
       "2488   2489          매물도야영장  섬,바다  N   N   N             N   \n",
       "2489   2490        블루문 오토캠핑     산  Y   N   N             N   \n",
       "\n",
       "                                                부대시설 체험프로그램 여부 캠핑장비대여   애완동물출입  \n",
       "0                       전기,무선인터넷,장작판매,온수,물놀이장,마트.편의점         N    화로대      불가능  \n",
       "1     전기,무선인터넷,장작판매,온수,트렘폴린,물놀이장,놀이터,산책로,운동시설,마트.편의점         Y    NaN      불가능  \n",
       "2          전기,무선인터넷,장작판매,온수,물놀이장,놀이터,운동장,운동시설,마트.편의점         N    NaN      불가능  \n",
       "3                                               운동시설         N    NaN      불가능  \n",
       "4                              전기,온수,물놀이장,산책로,마트.편의점         Y    NaN  가능(소형견)  \n",
       "...                                              ...       ...    ...      ...  \n",
       "2485                                             NaN         N    NaN      불가능  \n",
       "2486                                             NaN         N    NaN      불가능  \n",
       "2487                                             NaN         N    NaN      NaN  \n",
       "2488                                             NaN         N    NaN      불가능  \n",
       "2489                                             NaN         N    NaN      불가능  \n",
       "\n",
       "[2490 rows x 11 columns]"
      ]
     },
     "execution_count": 472,
     "metadata": {},
     "output_type": "execute_result"
    }
   ],
   "source": [
    "test = df[['컨텐츠ID', '야영장명','입지구분','오토','글램핑','카라반','개인 트레일러 동반 여부','부대시설','체험프로그램 여부','캠핑장비대여','애완동물출입']]\n",
    "test"
   ]
  },
  {
   "cell_type": "code",
   "execution_count": 476,
   "metadata": {},
   "outputs": [],
   "source": [
    "test=test.fillna('없음')"
   ]
  },
  {
   "cell_type": "code",
   "execution_count": 477,
   "metadata": {},
   "outputs": [
    {
     "data": {
      "text/html": [
       "<div>\n",
       "<style scoped>\n",
       "    .dataframe tbody tr th:only-of-type {\n",
       "        vertical-align: middle;\n",
       "    }\n",
       "\n",
       "    .dataframe tbody tr th {\n",
       "        vertical-align: top;\n",
       "    }\n",
       "\n",
       "    .dataframe thead th {\n",
       "        text-align: right;\n",
       "    }\n",
       "</style>\n",
       "<table border=\"1\" class=\"dataframe\">\n",
       "  <thead>\n",
       "    <tr style=\"text-align: right;\">\n",
       "      <th></th>\n",
       "      <th>캠핑장ID</th>\n",
       "      <th>야영장명</th>\n",
       "      <th>태그</th>\n",
       "    </tr>\n",
       "  </thead>\n",
       "  <tbody>\n",
       "  </tbody>\n",
       "</table>\n",
       "</div>"
      ],
      "text/plain": [
       "Empty DataFrame\n",
       "Columns: [캠핑장ID, 야영장명, 태그]\n",
       "Index: []"
      ]
     },
     "execution_count": 477,
     "metadata": {},
     "output_type": "execute_result"
    }
   ],
   "source": [
    "data = pd.DataFrame(columns=['캠핑장ID','야영장명','태그'])\n",
    "data"
   ]
  },
  {
   "cell_type": "code",
   "execution_count": 478,
   "metadata": {},
   "outputs": [],
   "source": [
    "\n",
    "for i in range(0,2490):\n",
    "    tag = ''\n",
    "    if('산' in test.iloc[i]['입지구분']):\n",
    "        tag +='산맥'\n",
    "        tag += ' '\n",
    "    if('계곡' in test.iloc[i]['입지구분']):\n",
    "        tag +='계곡'\n",
    "        tag += ' '\n",
    "    if('섬' in test.iloc[i]['입지구분']):\n",
    "        tag +='섬섬'\n",
    "        tag += ' '\n",
    "    if('호수' in test.iloc[i]['입지구분']):\n",
    "        tag +='호수'\n",
    "        tag += ' '\n",
    "    if('숲' in test.iloc[i]['입지구분']):\n",
    "        tag +='수풀'\n",
    "        tag += ' '\n",
    "    if('바다' in test.iloc[i]['입지구분']):\n",
    "        tag +='바다'\n",
    "        tag += ' '\n",
    "    if('도심' in test.iloc[i]['입지구분']):\n",
    "        tag +='도심'\n",
    "        tag += ' '\n",
    "    if('강' in test.iloc[i]['입지구분']):\n",
    "        tag +='강가'\n",
    "        tag += ' '\n",
    "    if '물놀이' in test.iloc[i]['부대시설']:\n",
    "        tag +='수영장'\n",
    "        tag += ' '\n",
    "    if(test.iloc[i]['오토'] == 'Y'):\n",
    "        tag +='오토'\n",
    "        tag += ' '\n",
    "    if(test.iloc[i]['글램핑'] == 'Y'):\n",
    "        tag +='글램핑'\n",
    "        tag += ' '\n",
    "    if(test.iloc[i]['카라반'] == 'Y'):\n",
    "        tag +='카라반'\n",
    "        tag += ' '\n",
    "    if(test.iloc[i]['애완동물출입'][:2] =='가능'): \n",
    "        tag +='애완견'\n",
    "        tag += ' '\n",
    "    if '산책로' in test.iloc[i]['부대시설']:\n",
    "        tag +='산책로'\n",
    "        tag += ' '\n",
    "    if '놀이터' in test.iloc[i]['부대시설'] or '트렘폴린' in test.iloc[i]['부대시설'] :\n",
    "        tag +='아이들'\n",
    "        tag += ' '\n",
    "    if(test.iloc[i]['캠핑장비대여'] != '없음'):\n",
    "        tag +='장비'\n",
    "        tag += ' '   \n",
    "    if(test.iloc[i]['체험프로그램 여부'] == 'Y'):\n",
    "        tag +='체험'\n",
    "        tag += ' '\n",
    "    if(test.iloc[i]['개인 트레일러 동반 여부'] == 'Y'):\n",
    "        tag +='트레일러'\n",
    "        tag += ' '\n",
    "    \n",
    "    new_data = {\n",
    "        '캠핑장ID' : i + 1,\n",
    "        '야영장명' : test.loc[test['컨텐츠ID'] == i + 1].values[0][1],\n",
    "        '태그' : tag\n",
    "    }\n",
    "\n",
    "    data = data.append(new_data,ignore_index = True)\n"
   ]
  },
  {
   "cell_type": "code",
   "execution_count": 479,
   "metadata": {
    "scrolled": true
   },
   "outputs": [],
   "source": [
    "data\n",
    "data.to_csv('data.csv')"
   ]
  },
  {
   "cell_type": "code",
   "execution_count": 480,
   "metadata": {},
   "outputs": [
    {
     "data": {
      "text/plain": [
       "캠핑장ID    0\n",
       "야영장명     0\n",
       "태그       0\n",
       "dtype: int64"
      ]
     },
     "execution_count": 480,
     "metadata": {},
     "output_type": "execute_result"
    }
   ],
   "source": [
    "data.isnull().sum()"
   ]
  },
  {
   "cell_type": "code",
   "execution_count": 7,
   "metadata": {},
   "outputs": [],
   "source": [
    "import pandas as pd\n",
    "import numpy as np\n",
    "import re\n",
    "\n",
    "data = pd.read_csv(\"data.csv\",encoding = 'euc-kr')"
   ]
  },
  {
   "cell_type": "code",
   "execution_count": 16,
   "metadata": {},
   "outputs": [
    {
     "data": {
      "text/plain": [
       "(2490, 18)"
      ]
     },
     "execution_count": 16,
     "metadata": {},
     "output_type": "execute_result"
    }
   ],
   "source": [
    "from sklearn.feature_extraction.text import CountVectorizer\n",
    "#TF-iDF -> 문단에서 토큰화 진행 -> 동사 -> 카운트 동사 다 한다 에 이 전체 문서 수 / 지금 문서의 비율 그게 중요한 단어인지아닌\n",
    "#카운트화 -> 18태그 중 이 캠핑장이 몇개? -> 한개\n",
    "count_vector = CountVectorizer(ngram_range=(1,1))\n",
    "c_vector_tag = count_vector.fit_transform(data['태그'])\n",
    "c_vector_tag.shape"
   ]
  },
  {
   "cell_type": "code",
   "execution_count": 19,
   "metadata": {
    "scrolled": true
   },
   "outputs": [
    {
     "name": "stdout",
     "output_type": "stream",
     "text": [
      "[[1.         0.31622777 0.4        ... 0.         0.         0.63245553]\n",
      " [0.31622777 1.         0.47434165 ... 0.25       0.         0.25      ]\n",
      " [0.4        0.47434165 1.         ... 0.         0.         0.31622777]\n",
      " ...\n",
      " [0.         0.25       0.         ... 1.         0.5        0.        ]\n",
      " [0.         0.         0.         ... 0.5        1.         0.        ]\n",
      " [0.63245553 0.25       0.31622777 ... 0.         0.         1.        ]]\n"
     ]
    }
   ],
   "source": [
    "from sklearn.metrics.pairwise import cosine_similarity\n",
    "# .argsort()[:,::-1]\n",
    "#코사인 유사도 0~1 1에 가까울수록 비슷하다.\n",
    "tag_c_sim = cosine_similarity(c_vector_tag,c_vector_tag)\n",
    "print(tag_c_sim)\n"
   ]
  },
  {
   "cell_type": "code",
   "execution_count": 483,
   "metadata": {},
   "outputs": [],
   "source": [
    "# 코사인 유사도를 이용하여 단어의 유사도를 통해 추천\n",
    "def get_recommend_camping_list(data,camping_title,top=30):\n",
    "    target_camping_index = data[data['야영장명'] == camping_title].index.values\n",
    "    print(target_camping_index)\n",
    "    sim_index = tag_c_sim[target_camping_index, :top].reshape(-1)\n",
    "    \n",
    "    sim_index = sim_index[sim_index != target_camping_index]\n",
    "\n",
    "    result = data.iloc[sim_index][:10]\n",
    "    return result\n"
   ]
  },
  {
   "cell_type": "code",
   "execution_count": 484,
   "metadata": {
    "scrolled": true
   },
   "outputs": [
    {
     "name": "stdout",
     "output_type": "stream",
     "text": [
      "[4]\n"
     ]
    },
    {
     "data": {
      "text/html": [
       "<div>\n",
       "<style scoped>\n",
       "    .dataframe tbody tr th:only-of-type {\n",
       "        vertical-align: middle;\n",
       "    }\n",
       "\n",
       "    .dataframe tbody tr th {\n",
       "        vertical-align: top;\n",
       "    }\n",
       "\n",
       "    .dataframe thead th {\n",
       "        text-align: right;\n",
       "    }\n",
       "</style>\n",
       "<table border=\"1\" class=\"dataframe\">\n",
       "  <thead>\n",
       "    <tr style=\"text-align: right;\">\n",
       "      <th></th>\n",
       "      <th>캠핑장ID</th>\n",
       "      <th>야영장명</th>\n",
       "      <th>태그</th>\n",
       "    </tr>\n",
       "  </thead>\n",
       "  <tbody>\n",
       "    <tr>\n",
       "      <th>299</th>\n",
       "      <td>300</td>\n",
       "      <td>대관령솔내음오토캠핑장</td>\n",
       "      <td>산맥 수풀 오토 카라반 애완견 산책로 아이들 체험 트레일러</td>\n",
       "    </tr>\n",
       "    <tr>\n",
       "      <th>466</th>\n",
       "      <td>467</td>\n",
       "      <td>무주 솔밭야영장</td>\n",
       "      <td>산맥 계곡 수풀 수영장 오토 애완견 산책로 아이들 체험 트레일러</td>\n",
       "    </tr>\n",
       "    <tr>\n",
       "      <th>1794</th>\n",
       "      <td>1795</td>\n",
       "      <td>양달캠핑장</td>\n",
       "      <td>산맥 수풀 수영장 오토 카라반 산책로 아이들 장비 체험 트레일러</td>\n",
       "    </tr>\n",
       "    <tr>\n",
       "      <th>524</th>\n",
       "      <td>525</td>\n",
       "      <td>밤별 캠핑장</td>\n",
       "      <td>산맥 수풀 수영장 오토 카라반 애완견 아이들 장비 체험 트레일러</td>\n",
       "    </tr>\n",
       "    <tr>\n",
       "      <th>1189</th>\n",
       "      <td>1190</td>\n",
       "      <td>청광새들녘캠핑</td>\n",
       "      <td>산맥 수풀 수영장 애완견 산책로 아이들 체험 트레일러</td>\n",
       "    </tr>\n",
       "    <tr>\n",
       "      <th>2050</th>\n",
       "      <td>2051</td>\n",
       "      <td>트리앤캠프스토리</td>\n",
       "      <td>산맥 수풀 수영장 오토 카라반 애완견 산책로 아이들</td>\n",
       "    </tr>\n",
       "    <tr>\n",
       "      <th>539</th>\n",
       "      <td>540</td>\n",
       "      <td>백야자연휴양림 오토캠핑장</td>\n",
       "      <td>산맥 수풀 수영장 오토 산책로 아이들 체험 트레일러</td>\n",
       "    </tr>\n",
       "    <tr>\n",
       "      <th>1058</th>\n",
       "      <td>1059</td>\n",
       "      <td>은행마을</td>\n",
       "      <td>산맥 수풀 오토 애완견 산책로 아이들 체험 트레일러</td>\n",
       "    </tr>\n",
       "    <tr>\n",
       "      <th>257</th>\n",
       "      <td>258</td>\n",
       "      <td>누룽지</td>\n",
       "      <td>산맥 수영장 오토 애완견 산책로 아이들 체험 트레일러</td>\n",
       "    </tr>\n",
       "    <tr>\n",
       "      <th>256</th>\n",
       "      <td>257</td>\n",
       "      <td>바인밸리 수영장 캠핑장</td>\n",
       "      <td>산맥 수영장 오토 글램핑 카라반 애완견 산책로 트레일러</td>\n",
       "    </tr>\n",
       "  </tbody>\n",
       "</table>\n",
       "</div>"
      ],
      "text/plain": [
       "     캠핑장ID            야영장명                                    태그\n",
       "299    300     대관령솔내음오토캠핑장     산맥 수풀 오토 카라반 애완견 산책로 아이들 체험 트레일러 \n",
       "466    467       무주 솔밭야영장   산맥 계곡 수풀 수영장 오토 애완견 산책로 아이들 체험 트레일러 \n",
       "1794  1795           양달캠핑장  산맥 수풀 수영장 오토 카라반 산책로 아이들 장비 체험 트레일러 \n",
       "524    525         밤별 캠핑장   산맥 수풀 수영장 오토 카라반 애완견 아이들 장비 체험 트레일러 \n",
       "1189  1190         청광새들녘캠핑        산맥 수풀 수영장 애완견 산책로 아이들 체험 트레일러 \n",
       "2050  2051        트리앤캠프스토리         산맥 수풀 수영장 오토 카라반 애완견 산책로 아이들 \n",
       "539    540  백야자연휴양림 오토캠핑장          산맥 수풀 수영장 오토 산책로 아이들 체험 트레일러 \n",
       "1058  1059            은행마을         산맥 수풀 오토 애완견 산책로 아이들 체험 트레일러 \n",
       "257    258             누룽지        산맥 수영장 오토 애완견 산책로 아이들 체험 트레일러 \n",
       "256    257    바인밸리 수영장 캠핑장       산맥 수영장 오토 글램핑 카라반 애완견 산책로 트레일러 "
      ]
     },
     "execution_count": 484,
     "metadata": {},
     "output_type": "execute_result"
    }
   ],
   "source": [
    "get_recommend_camping_list(data,camping_title = '(주)양촌여울체험캠프')"
   ]
  },
  {
   "cell_type": "code",
   "execution_count": 485,
   "metadata": {},
   "outputs": [],
   "source": [
    "# 코사인 유사도를 이용하여 단어의 유사도를 통해 추천\n",
    "def get_recommend_camping_list(data,camping_index,top=30):\n",
    "    target_camping_index = data[data['캠핑장ID'] == camping_index].index.values\n",
    "    print(target_camping_index)\n",
    "    sim_index = tag_c_sim[target_camping_index, :top].reshape(-1)\n",
    "    \n",
    "    sim_index = sim_index[sim_index != target_camping_index]\n",
    "\n",
    "    result = data.iloc[sim_index][:10]\n",
    "    return result\n"
   ]
  },
  {
   "cell_type": "code",
   "execution_count": 486,
   "metadata": {},
   "outputs": [
    {
     "name": "stdout",
     "output_type": "stream",
     "text": [
      "[4]\n"
     ]
    },
    {
     "data": {
      "text/html": [
       "<div>\n",
       "<style scoped>\n",
       "    .dataframe tbody tr th:only-of-type {\n",
       "        vertical-align: middle;\n",
       "    }\n",
       "\n",
       "    .dataframe tbody tr th {\n",
       "        vertical-align: top;\n",
       "    }\n",
       "\n",
       "    .dataframe thead th {\n",
       "        text-align: right;\n",
       "    }\n",
       "</style>\n",
       "<table border=\"1\" class=\"dataframe\">\n",
       "  <thead>\n",
       "    <tr style=\"text-align: right;\">\n",
       "      <th></th>\n",
       "      <th>캠핑장ID</th>\n",
       "      <th>야영장명</th>\n",
       "      <th>태그</th>\n",
       "    </tr>\n",
       "  </thead>\n",
       "  <tbody>\n",
       "    <tr>\n",
       "      <th>299</th>\n",
       "      <td>300</td>\n",
       "      <td>대관령솔내음오토캠핑장</td>\n",
       "      <td>산맥 수풀 오토 카라반 애완견 산책로 아이들 체험 트레일러</td>\n",
       "    </tr>\n",
       "    <tr>\n",
       "      <th>466</th>\n",
       "      <td>467</td>\n",
       "      <td>무주 솔밭야영장</td>\n",
       "      <td>산맥 계곡 수풀 수영장 오토 애완견 산책로 아이들 체험 트레일러</td>\n",
       "    </tr>\n",
       "    <tr>\n",
       "      <th>1794</th>\n",
       "      <td>1795</td>\n",
       "      <td>양달캠핑장</td>\n",
       "      <td>산맥 수풀 수영장 오토 카라반 산책로 아이들 장비 체험 트레일러</td>\n",
       "    </tr>\n",
       "    <tr>\n",
       "      <th>524</th>\n",
       "      <td>525</td>\n",
       "      <td>밤별 캠핑장</td>\n",
       "      <td>산맥 수풀 수영장 오토 카라반 애완견 아이들 장비 체험 트레일러</td>\n",
       "    </tr>\n",
       "    <tr>\n",
       "      <th>1189</th>\n",
       "      <td>1190</td>\n",
       "      <td>청광새들녘캠핑</td>\n",
       "      <td>산맥 수풀 수영장 애완견 산책로 아이들 체험 트레일러</td>\n",
       "    </tr>\n",
       "    <tr>\n",
       "      <th>2050</th>\n",
       "      <td>2051</td>\n",
       "      <td>트리앤캠프스토리</td>\n",
       "      <td>산맥 수풀 수영장 오토 카라반 애완견 산책로 아이들</td>\n",
       "    </tr>\n",
       "    <tr>\n",
       "      <th>539</th>\n",
       "      <td>540</td>\n",
       "      <td>백야자연휴양림 오토캠핑장</td>\n",
       "      <td>산맥 수풀 수영장 오토 산책로 아이들 체험 트레일러</td>\n",
       "    </tr>\n",
       "    <tr>\n",
       "      <th>1058</th>\n",
       "      <td>1059</td>\n",
       "      <td>은행마을</td>\n",
       "      <td>산맥 수풀 오토 애완견 산책로 아이들 체험 트레일러</td>\n",
       "    </tr>\n",
       "    <tr>\n",
       "      <th>257</th>\n",
       "      <td>258</td>\n",
       "      <td>누룽지</td>\n",
       "      <td>산맥 수영장 오토 애완견 산책로 아이들 체험 트레일러</td>\n",
       "    </tr>\n",
       "    <tr>\n",
       "      <th>256</th>\n",
       "      <td>257</td>\n",
       "      <td>바인밸리 수영장 캠핑장</td>\n",
       "      <td>산맥 수영장 오토 글램핑 카라반 애완견 산책로 트레일러</td>\n",
       "    </tr>\n",
       "  </tbody>\n",
       "</table>\n",
       "</div>"
      ],
      "text/plain": [
       "     캠핑장ID            야영장명                                    태그\n",
       "299    300     대관령솔내음오토캠핑장     산맥 수풀 오토 카라반 애완견 산책로 아이들 체험 트레일러 \n",
       "466    467       무주 솔밭야영장   산맥 계곡 수풀 수영장 오토 애완견 산책로 아이들 체험 트레일러 \n",
       "1794  1795           양달캠핑장  산맥 수풀 수영장 오토 카라반 산책로 아이들 장비 체험 트레일러 \n",
       "524    525         밤별 캠핑장   산맥 수풀 수영장 오토 카라반 애완견 아이들 장비 체험 트레일러 \n",
       "1189  1190         청광새들녘캠핑        산맥 수풀 수영장 애완견 산책로 아이들 체험 트레일러 \n",
       "2050  2051        트리앤캠프스토리         산맥 수풀 수영장 오토 카라반 애완견 산책로 아이들 \n",
       "539    540  백야자연휴양림 오토캠핑장          산맥 수풀 수영장 오토 산책로 아이들 체험 트레일러 \n",
       "1058  1059            은행마을         산맥 수풀 오토 애완견 산책로 아이들 체험 트레일러 \n",
       "257    258             누룽지        산맥 수영장 오토 애완견 산책로 아이들 체험 트레일러 \n",
       "256    257    바인밸리 수영장 캠핑장       산맥 수영장 오토 글램핑 카라반 애완견 산책로 트레일러 "
      ]
     },
     "execution_count": 486,
     "metadata": {},
     "output_type": "execute_result"
    }
   ],
   "source": [
    "get_recommend_camping_list(data,camping_index = 5)\n",
    "# data.loc['캠핑장ID']"
   ]
  },
  {
   "cell_type": "code",
   "execution_count": 487,
   "metadata": {},
   "outputs": [
    {
     "data": {
      "text/plain": [
       "299      300\n",
       "1794    1795\n",
       "524      525\n",
       "466      467\n",
       "257      258\n",
       "161      162\n",
       "1058    1059\n",
       "539      540\n",
       "693      694\n",
       "764      765\n",
       "Name: 캠핑장ID, dtype: object"
      ]
     },
     "execution_count": 487,
     "metadata": {},
     "output_type": "execute_result"
    }
   ],
   "source": [
    "result['캠핑장ID']"
   ]
  },
  {
   "cell_type": "code",
   "execution_count": 20,
   "metadata": {},
   "outputs": [
    {
     "data": {
      "text/html": [
       "<div>\n",
       "<style scoped>\n",
       "    .dataframe tbody tr th:only-of-type {\n",
       "        vertical-align: middle;\n",
       "    }\n",
       "\n",
       "    .dataframe tbody tr th {\n",
       "        vertical-align: top;\n",
       "    }\n",
       "\n",
       "    .dataframe thead th {\n",
       "        text-align: right;\n",
       "    }\n",
       "</style>\n",
       "<table border=\"1\" class=\"dataframe\">\n",
       "  <thead>\n",
       "    <tr style=\"text-align: right;\">\n",
       "      <th></th>\n",
       "      <th>Unnamed: 0</th>\n",
       "      <th>캠핑장ID</th>\n",
       "      <th>야영장명</th>\n",
       "      <th>태그</th>\n",
       "    </tr>\n",
       "  </thead>\n",
       "  <tbody>\n",
       "    <tr>\n",
       "      <th>4</th>\n",
       "      <td>4</td>\n",
       "      <td>5</td>\n",
       "      <td>(주)양촌여울체험캠프</td>\n",
       "      <td>산맥 수풀 수영장 오토 카라반 애완견 산책로 체험 트레일러</td>\n",
       "    </tr>\n",
       "  </tbody>\n",
       "</table>\n",
       "</div>"
      ],
      "text/plain": [
       "   Unnamed: 0  캠핑장ID         야영장명                                 태그\n",
       "4           4      5  (주)양촌여울체험캠프  산맥 수풀 수영장 오토 카라반 애완견 산책로 체험 트레일러 "
      ]
     },
     "execution_count": 20,
     "metadata": {},
     "output_type": "execute_result"
    }
   ],
   "source": [
    "data.loc[data['야영장명'] == '(주)양촌여울체험캠프']"
   ]
  },
  {
   "cell_type": "code",
   "execution_count": null,
   "metadata": {},
   "outputs": [],
   "source": []
  }
 ],
 "metadata": {
  "kernelspec": {
   "display_name": "Python 3",
   "language": "python",
   "name": "python3"
  },
  "language_info": {
   "codemirror_mode": {
    "name": "ipython",
    "version": 3
   },
   "file_extension": ".py",
   "mimetype": "text/x-python",
   "name": "python",
   "nbconvert_exporter": "python",
   "pygments_lexer": "ipython3",
   "version": "3.8.5"
  }
 },
 "nbformat": 4,
 "nbformat_minor": 4
}
